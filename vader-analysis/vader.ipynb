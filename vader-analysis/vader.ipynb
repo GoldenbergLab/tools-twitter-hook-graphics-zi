{
 "cells": [
  {
   "cell_type": "code",
   "execution_count": 11,
   "metadata": {},
   "outputs": [],
   "source": [
    "from vaderSentiment.vaderSentiment import SentimentIntensityAnalyzer\n",
    "import pandas as pd\n",
    "from collections import Counter\n",
    "import matplotlib.pyplot as plt"
   ]
  },
  {
   "cell_type": "code",
   "execution_count": 4,
   "metadata": {},
   "outputs": [],
   "source": [
    "df = pd.read_excel(\"C:/Users/zhuang/Documents/GitHub/twitter-hook-graphics/data/@kingjames_user_tweets.xlsx\")"
   ]
  },
  {
   "cell_type": "code",
   "execution_count": 5,
   "metadata": {},
   "outputs": [],
   "source": [
    "vader_sent_dicts = []\n",
    "\n",
    "analyzer = SentimentIntensityAnalyzer()\n",
    "for sentence in list(df.Text):\n",
    "    vs = analyzer.polarity_scores(sentence)\n",
    "    vader_sent_dicts.append(vs)"
   ]
  },
  {
   "cell_type": "code",
   "execution_count": 7,
   "metadata": {},
   "outputs": [],
   "source": [
    "sent_class = []\n",
    "\n",
    "for i in vader_sent_dicts:\n",
    "    if i[\"compound\"] >= 0.05:\n",
    "        sent_class.append(\"positive\")\n",
    "    elif i[\"compound\"] <= -0.05:\n",
    "        sent_class.append(\"negative\")\n",
    "    else:\n",
    "        sent_class.append(\"neutral\")"
   ]
  },
  {
   "cell_type": "code",
   "execution_count": 9,
   "metadata": {},
   "outputs": [
    {
     "data": {
      "text/plain": [
       "Counter({'positive': 1786, 'negative': 476, 'neutral': 933})"
      ]
     },
     "execution_count": 9,
     "metadata": {},
     "output_type": "execute_result"
    }
   ],
   "source": [
    "Counter(sent_class)"
   ]
  },
  {
   "cell_type": "code",
   "execution_count": 12,
   "metadata": {},
   "outputs": [
    {
     "data": {
      "image/png": "[encoded data removed]",
      "text/plain": [
       "<Figure size 432x288 with 1 Axes>"
      ]
     },
     "metadata": {},
     "output_type": "display_data"
    }
   ],
   "source": [
    "labels = ['neutral', 'positive', 'negative']\n",
    "sizes = [933, 1786, 476]\n",
    "fig1, ax1 = plt.subplots()\n",
    "ax1.pie(sizes, labels=labels)\n",
    "ax1.axis('equal')  \n",
    "plt.title(\"Your tweets by sentiment category\")\n",
    "plt.show()"
   ]
  },
  {
   "cell_type": "code",
   "execution_count": null,
   "metadata": {},
   "outputs": [],
   "source": []
  }
 ],
 "metadata": {
  "kernelspec": {
   "display_name": "Python 3",
   "language": "python",
   "name": "python3"
  },
  "language_info": {
   "codemirror_mode": {
    "name": "ipython",
    "version": 3
   },
   "file_extension": ".py",
   "mimetype": "text/x-python",
   "name": "python",
   "nbconvert_exporter": "python",
   "pygments_lexer": "ipython3",
   "version": "3.7.4"
  }
 },
 "nbformat": 4,
 "nbformat_minor": 2
}
